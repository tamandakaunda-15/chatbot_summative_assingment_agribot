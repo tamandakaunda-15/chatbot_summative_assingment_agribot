{
  "nbformat": 4,
  "nbformat_minor": 0,
  "metadata": {
    "colab": {
      "provenance": [],
      "authorship_tag": "ABX9TyNLGnpJw5Q2CfKElZH4Yw7i",
      "include_colab_link": true
    },
    "kernelspec": {
      "name": "python3",
      "display_name": "Python 3"
    },
    "language_info": {
      "name": "python"
    }
  },
  "cells": [
    {
      "cell_type": "markdown",
      "metadata": {
        "id": "view-in-github",
        "colab_type": "text"
      },
      "source": [
        "<a href=\"https://colab.research.google.com/github/tamandakaunda-15/chatbot_summative_assingment_agribot/blob/main/Saved_chatbot.ipynb\" target=\"_parent\"><img src=\"https://colab.research.google.com/assets/colab-badge.svg\" alt=\"Open In Colab\"/></a>"
      ]
    },
    {
      "cell_type": "code",
      "execution_count": 3,
      "metadata": {
        "colab": {
          "base_uri": "https://localhost:8080/"
        },
        "id": "lrFbAe-6fXMn",
        "outputId": "5b0c73bb-50f9-464e-b71e-c3b24f58c533"
      },
      "outputs": [
        {
          "output_type": "stream",
          "name": "stdout",
          "text": [
            "Drive already mounted at /content/drive; to attempt to forcibly remount, call drive.mount(\"/content/drive\", force_remount=True).\n",
            "Model loaded successfully!\n"
          ]
        }
      ],
      "source": [
        "from transformers import DistilBertForQuestionAnswering, DistilBertTokenizerFast\n",
        "from peft import PeftModel, LoraConfig\n",
        "\n",
        "# Access saved model\n",
        "from google.colab import drive\n",
        "drive.mount('/content/drive')\n",
        "\n",
        "# Step 1: Load the base model\n",
        "base_model_name = 'distilbert/distilbert-base-cased-distilled-squad'\n",
        "\n",
        "# Load the pre-trained DistilBERT model. This is the model before your fine-tuning.\n",
        "base_model = DistilBertForQuestionAnswering.from_pretrained(base_model_name)\n",
        "\n",
        "#  Step 2: Load and attach the PEFT adapter\n",
        "peft_model_path = '/content/drive/MyDrive/summative_assignment_chatbot/msce_agriculture_chatbot_model'\n",
        "\n",
        "# Load the fine-tuned PEFT adapter on top of the base model\n",
        "model = PeftModel.from_pretrained(base_model, peft_model_path)\n",
        "\n",
        "#  Step 3: Load the tokenizer\n",
        "tokenizer = DistilBertTokenizerFast.from_pretrained(base_model_name)\n",
        "\n",
        "# Now, your `model` variable contains the complete, fine-tuned model ready for inference.\n",
        "print(\"Model loaded successfully!\")"
      ]
    }
  ]
}